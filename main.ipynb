{
 "cells": [
  {
   "cell_type": "code",
   "execution_count": 1,
   "metadata": {},
   "outputs": [
    {
     "name": "stderr",
     "output_type": "stream",
     "text": [
      "/anaconda3/lib/python3.6/site-packages/h5py/__init__.py:36: FutureWarning: Conversion of the second argument of issubdtype from `float` to `np.floating` is deprecated. In future, it will be treated as `np.float64 == np.dtype(float).type`.\n",
      "  from ._conv import register_converters as _register_converters\n",
      "Using TensorFlow backend.\n"
     ]
    }
   ],
   "source": [
    "import pickle\n",
    "import gzip\n",
    "import keras\n",
    "from keras.datasets import mnist\n",
    "from keras.layers import Dense\n",
    "from keras.models import Sequential\n",
    "from keras.layers import Dropout, Flatten\n",
    "from keras.layers import Conv2D, MaxPooling2D\n",
    "import pandas\n",
    "from PIL import Image\n",
    "import os\n",
    "import numpy as np\n",
    "from sklearn.svm import SVC\n",
    "from sklearn.ensemble import RandomForestClassifier\n",
    "from sklearn.datasets import fetch_mldata\n",
    "from sklearn import datasets, svm, metrics\n",
    "import math\n",
    "from tqdm import tqdm_notebook as tqdm\n",
    "from matplotlib import pyplot as plt\n",
    "from keras.utils import np_utils\n",
    "from scipy import stats"
   ]
  },
  {
   "cell_type": "code",
   "execution_count": 2,
   "metadata": {},
   "outputs": [],
   "source": [
    "def getBounds(index,batchsize,maxi):\n",
    "    if((index+1)*batchsize>maxi):\n",
    "        return index*batchsize,maxi\n",
    "    else:\n",
    "        return index*batchsize,(index+1)*batchsize"
   ]
  },
  {
   "cell_type": "code",
   "execution_count": 3,
   "metadata": {},
   "outputs": [],
   "source": [
    "def softmax(W,x):\n",
    "    v = np.dot(x,W.T)\n",
    "    s = np.exp(v)\n",
    "    y = s.T/np.sum(s,axis=1)\n",
    "    return y.T"
   ]
  },
  {
   "cell_type": "code",
   "execution_count": 4,
   "metadata": {},
   "outputs": [],
   "source": [
    "def predict(W,x):\n",
    "    y=softmax(W,x);\n",
    "    return y;"
   ]
  },
  {
   "cell_type": "code",
   "execution_count": 5,
   "metadata": {},
   "outputs": [],
   "source": [
    "def negativeLogLoss(y,t):\n",
    "    return -np.mean(np.sum(t * np.log(y) +(1 - t) * np.log(1 - y), axis=1))"
   ]
  },
  {
   "cell_type": "code",
   "execution_count": 6,
   "metadata": {},
   "outputs": [],
   "source": [
    "def Accuracy(y,t):\n",
    "    correct = 0\n",
    "    for i in range(len(y)):\n",
    "        if(np.argmax(y[i])==np.argmax(t[i])):\n",
    "            correct+=1\n",
    "    return correct/len(y)"
   ]
  },
  {
   "cell_type": "markdown",
   "metadata": {},
   "source": [
    "# Preprocessing of MNIST and USPS Data"
   ]
  },
  {
   "cell_type": "code",
   "execution_count": 7,
   "metadata": {},
   "outputs": [],
   "source": [
    "filename = 'mnist.pkl.gz'\n",
    "f = gzip.open(filename, 'rb')\n",
    "training_data, validation_data, test_data = pickle.load(f, encoding='latin1')\n",
    "f.close()"
   ]
  },
  {
   "cell_type": "code",
   "execution_count": 8,
   "metadata": {},
   "outputs": [],
   "source": [
    "USPSMat  = []\n",
    "USPSTar  = []\n",
    "curPath  = 'USPSdata/Numerals'\n",
    "savedImg = []\n",
    "\n",
    "for j in range(0,10):\n",
    "    curFolderPath = curPath + '/' + str(j)\n",
    "    imgs =  os.listdir(curFolderPath)\n",
    "    for img in imgs:\n",
    "        curImg = curFolderPath + '/' + img\n",
    "        if curImg[-3:] == 'png':\n",
    "            img = Image.open(curImg,'r')\n",
    "            # resize image to match MNIST data features\n",
    "            img = img.resize((28, 28))\n",
    "            savedImg = img\n",
    "            imgdata = (255-np.array(img.getdata()))/255\n",
    "            USPSMat.append(imgdata)\n",
    "            USPSTar.append(j)\n",
    "            "
   ]
  },
  {
   "cell_type": "code",
   "execution_count": 9,
   "metadata": {},
   "outputs": [],
   "source": [
    "USPSMat = np.array(USPSMat)\n",
    "USPSTar = np.array(USPSTar)"
   ]
  },
  {
   "cell_type": "code",
   "execution_count": 10,
   "metadata": {},
   "outputs": [
    {
     "name": "stdout",
     "output_type": "stream",
     "text": [
      "(50000, 784)\n",
      "(10000, 784)\n"
     ]
    }
   ],
   "source": [
    "X_train, y_train = np.array(training_data[0]),np.array(training_data[1])\n",
    "X_val, y_val = np.array(validation_data[0]),np.array(validation_data[1])\n",
    "X_test, y_test = np.array(test_data[0]),np.array(test_data[1])\n",
    "print(X_train.shape)\n",
    "print(X_test.shape)"
   ]
  },
  {
   "cell_type": "code",
   "execution_count": 11,
   "metadata": {},
   "outputs": [
    {
     "name": "stdout",
     "output_type": "stream",
     "text": [
      "(50000, 10)\n",
      "(10000, 10)\n",
      "(10000, 10)\n"
     ]
    }
   ],
   "source": [
    "# one hot encoding of target values\n",
    "TrainingLabels = np_utils.to_categorical(training_data[1])\n",
    "TestingLabels = np_utils.to_categorical(test_data[1])\n",
    "ValidationLabels = np_utils.to_categorical(validation_data[1])\n",
    "print(TrainingLabels.shape)\n",
    "print(ValidationLabels.shape)\n",
    "print(TestingLabels.shape)"
   ]
  },
  {
   "cell_type": "code",
   "execution_count": 12,
   "metadata": {},
   "outputs": [
    {
     "name": "stdout",
     "output_type": "stream",
     "text": [
      "(70000, 784)\n",
      "(50000, 784)\n",
      "(10000, 784)\n",
      "(10000, 784)\n"
     ]
    }
   ],
   "source": [
    "MnistData = np.concatenate([training_data[0] , test_data[0] , validation_data[0]])\n",
    "print(MnistData.shape)\n",
    "\n",
    "X_Training = MnistData[:50000]\n",
    "X_Val = MnistData[60000:70000]\n",
    "X_Test = MnistData[50000:60000]\n",
    "print(X_Training.shape)\n",
    "print(X_Val.shape)\n",
    "print(X_Test.shape)"
   ]
  },
  {
   "cell_type": "markdown",
   "metadata": {},
   "source": [
    "# Logistic Regression"
   ]
  },
  {
   "cell_type": "code",
   "execution_count": 13,
   "metadata": {},
   "outputs": [
    {
     "name": "stdout",
     "output_type": "stream",
     "text": [
      "(10, 784)\n"
     ]
    }
   ],
   "source": [
    "# Batch Gradient Descent \n",
    "BatchSize = 500\n",
    "epochs = 50\n",
    "lr = 0.01\n",
    "W = np.ones((len(TrainingLabels[0]),len(X_Training[0])))\n",
    "print(W.shape)\n",
    "\n",
    "L_LogLoss_Val   = []\n",
    "L_LogLoss_TR    = []\n",
    "L_LogLoss_Test  = []\n",
    "L_Acc_Val   = []\n",
    "L_Acc_TR    = []\n",
    "L_Acc_Test  = []\n",
    "for i in range(epochs):\n",
    "    for i in range(int(len(TrainingLabels)/BatchSize)):\n",
    "        lower,upper   = getBounds(i,BatchSize,len(TrainingLabels))\n",
    "        x = X_Training[lower:upper]\n",
    "        T = TrainingLabels[lower:upper]\n",
    "        y_cap = predict(W,x)\n",
    "        y_cap_a = y_cap - T\n",
    "        Delta_E = y_cap_a[:,:,None]*x[:,None,:]\n",
    "        Delta_E_mean = np.mean(Delta_E,axis=0)\n",
    "        Delta_W = -np.dot(lr,Delta_E_mean)\n",
    "        W_next = W + Delta_W\n",
    "        W = W_next\n",
    "        \n",
    "        # calculating error and accuracy during the learning process\n",
    "        #-----------------TrainingData Accuracy---------------------#\n",
    "        y_tr_l = predict(W,x)\n",
    "        LogLoss_TR   =   negativeLogLoss(y_tr_l,T) \n",
    "        L_LogLoss_TR.append(LogLoss_TR)\n",
    "        L_Acc_TR.append(Accuracy(y_tr_l,T))\n",
    "        \n",
    "        #-----------------ValidationData Accuracy---------------------#\n",
    "        y_val_l = predict(W,X_Val)        \n",
    "        LogLoss_Val   =   negativeLogLoss(y_val_l,ValidationLabels) \n",
    "        L_LogLoss_Val.append(LogLoss_Val)\n",
    "        L_Acc_Val.append(Accuracy(y_val_l,ValidationLabels))\n",
    "        \n",
    "        #-----------------TestingData Accuracy---------------------#\n",
    "        y_test_l = predict(W,X_Test) \n",
    "        LogLoss_Test   =   negativeLogLoss(y_test_l,TestingLabels) \n",
    "        L_LogLoss_Test.append(LogLoss_Test)\n",
    "        L_Acc_Test.append(Accuracy(y_test_l,TestingLabels))\n"
   ]
  },
  {
   "cell_type": "code",
   "execution_count": 14,
   "metadata": {},
   "outputs": [
    {
     "name": "stdout",
     "output_type": "stream",
     "text": [
      "LogLoss Training   = 0.50747\n",
      "LogLoss Validation = 0.6171\n",
      "LogLoss Testing    = 0.63616\n",
      "Accuracy Training   = 0.938\n",
      "Accuracy Validation = 0.9046\n",
      "Accuracy Testing    = 0.9012\n"
     ]
    }
   ],
   "source": [
    "print (\"LogLoss Training   = \" + str(np.around(min(L_LogLoss_TR),5)))\n",
    "print (\"LogLoss Validation = \" + str(np.around(min(L_LogLoss_Val),5)))\n",
    "print (\"LogLoss Testing    = \" + str(np.around(min(L_LogLoss_Test),5)))\n",
    "print (\"Accuracy Training   = \" + str(np.around(max(L_Acc_TR),5)))\n",
    "print (\"Accuracy Validation = \" + str(np.around(max(L_Acc_Val),5)))\n",
    "print (\"Accuracy Testing    = \" + str(np.around(max(L_Acc_Test),5)))"
   ]
  },
  {
   "cell_type": "code",
   "execution_count": 15,
   "metadata": {},
   "outputs": [
    {
     "data": {
      "image/png": "[encoded data removed]",
      "text/plain": [
       "<Figure size 432x288 with 1 Axes>"
      ]
     },
     "metadata": {},
     "output_type": "display_data"
    }
   ],
   "source": [
    "i = [j for j in range(5000)]\n",
    "plt.figure(1)               \n",
    "ax = plt.subplot(111)\n",
    "plt.ylabel('LogLoss')\n",
    "plt.xlabel('Epochs')       \n",
    "ax.plot(i, L_LogLoss_TR,label ='Training LogLoss')\n",
    "ax.legend()\n",
    "plt.title('Logistic Regression | MNIST Dataset')\n",
    "plt.show()"
   ]
  },
  {
   "cell_type": "code",
   "execution_count": 16,
   "metadata": {},
   "outputs": [
    {
     "data": {
      "image/png": "[encoded data removed]",
      "text/plain": [
       "<Figure size 432x288 with 1 Axes>"
      ]
     },
     "metadata": {},
     "output_type": "display_data"
    }
   ],
   "source": [
    "i = [j for j in range(5000)]\n",
    "plt.figure(1)               \n",
    "ax = plt.subplot(111)\n",
    "ax.plot(i, L_LogLoss_Test,label ='Testing LogLoss')\n",
    "plt.ylabel('LogLoss')\n",
    "plt.xlabel('Epochs')       \n",
    "ax.plot(i, L_LogLoss_Val,label ='Validation LogLoss')\n",
    "ax.legend()\n",
    "plt.title('Logistic Regression | MNIST Dataset')\n",
    "plt.show()"
   ]
  },
  {
   "cell_type": "code",
   "execution_count": 17,
   "metadata": {},
   "outputs": [
    {
     "data": {
      "image/png": "[encoded data removed]",
      "text/plain": [
       "<Figure size 432x288 with 1 Axes>"
      ]
     },
     "metadata": {},
     "output_type": "display_data"
    }
   ],
   "source": [
    "i = [j for j in range(5000)]\n",
    "plt.figure(1)               \n",
    "ax = plt.subplot(111)\n",
    "ax.plot(i, L_Acc_Test[:5000],label ='Testing Accuracy')\n",
    "plt.ylabel('Accuracy')\n",
    "plt.xlabel('Epochs')       \n",
    "ax.plot(i, L_Acc_Val[:5000],label ='Validation Accuracy')\n",
    "ax.legend()\n",
    "plt.title('Logistic Regression | MNIST Dataset')\n",
    "plt.show()"
   ]
  },
  {
   "cell_type": "code",
   "execution_count": 19,
   "metadata": {},
   "outputs": [
    {
     "name": "stdout",
     "output_type": "stream",
     "text": [
      "[[ 956    0   11    5    2   15   16    3    9   13]\n",
      " [   0 1102    7    1    6    6    3   20   10    8]\n",
      " [   3    2  888   18    5    6    6   29   10    6]\n",
      " [   3    4   19  898    0   43    2    4   29   11]\n",
      " [   0    1   15    1  901   15   13   11    8   43]\n",
      " [   2    2    0   32    0  726   16    0   26   16]\n",
      " [   8    4   17    6   10   17  897    0   12    0]\n",
      " [   1    0   21   15    2   10    1  918   13   24]\n",
      " [   7   20   45   22    8   43    4    4  840    6]\n",
      " [   0    0    9   12   48   11    0   39   17  882]]\n"
     ]
    }
   ],
   "source": [
    "print(metrics.confusion_matrix(y_test_l.argmax(axis=1), TestingLabels.argmax(axis=1)))"
   ]
  },
  {
   "cell_type": "code",
   "execution_count": 20,
   "metadata": {},
   "outputs": [
    {
     "name": "stdout",
     "output_type": "stream",
     "text": [
      "Logistic Regression | USPS Dataset\n",
      "Accuracy: 0.35016750837541877\n",
      "Negative Log Loss: 3.325226211807129\n"
     ]
    }
   ],
   "source": [
    "print('Logistic Regression | USPS Dataset')\n",
    "USPSLabels = np_utils.to_categorical(USPSTar)\n",
    "y_USPS = predict(W,USPSMat)\n",
    "Accuracy_USPS = Accuracy(y_USPS,USPSLabels)\n",
    "print('Accuracy:',Accuracy_USPS)\n",
    "\n",
    "LogLossUSPS = negativeLogLoss(y_USPS,USPSLabels)\n",
    "print('Negative Log Loss:',LogLossUSPS)\n"
   ]
  },
  {
   "cell_type": "code",
   "execution_count": 21,
   "metadata": {},
   "outputs": [
    {
     "name": "stdout",
     "output_type": "stream",
     "text": [
      "[[ 601  234  219  108   65  182  380  198  226   52]\n",
      " [   4  298   25    3   86   20   13  213   30  188]\n",
      " [ 375  126 1176  121   36  214  346  318  146  164]\n",
      " [  56  350  138 1259   62  184  106  450  208  470]\n",
      " [ 255  286   67   21 1028   45  105   74  127  155]\n",
      " [ 111   52   75  236  120 1031  218   78  573   84]\n",
      " [ 104   41   93   31   41  126  698   35  119   15]\n",
      " [  42  299   93   58  128   72   25  300   43  365]\n",
      " [ 147  296   90  103  292   89   75  287  444  339]\n",
      " [ 305   18   23   60  142   37   34   47   84  168]]\n"
     ]
    }
   ],
   "source": [
    "print(metrics.confusion_matrix(y_USPS.argmax(axis=1), USPSLabels.argmax(axis=1)))"
   ]
  },
  {
   "cell_type": "markdown",
   "metadata": {},
   "source": [
    "# Deep Neural Network"
   ]
  },
  {
   "cell_type": "code",
   "execution_count": 22,
   "metadata": {},
   "outputs": [],
   "source": [
    "#Data preprocessing\n",
    "num_classes=10\n",
    "image_vector_size=28*28\n",
    "X_train_NN = X_train.reshape(X_train.shape[0], image_vector_size)\n",
    "X_test_NN = X_test.reshape(X_test.shape[0], image_vector_size)\n",
    "X_val_NN = X_val.reshape(X_test.shape[0], image_vector_size)\n",
    "y_train_NN = keras.utils.to_categorical(y_train, num_classes)\n",
    "y_test_NN = keras.utils.to_categorical(y_test, num_classes)\n",
    "y_val_NN = keras.utils.to_categorical(y_val, num_classes)\n",
    "image_size = 784 \n",
    "\n",
    "X_USPS_NN = USPSMat.reshape(USPSMat.shape[0], image_vector_size)\n",
    "y_USPS_NN = keras.utils.to_categorical(USPSTar, num_classes)"
   ]
  },
  {
   "cell_type": "code",
   "execution_count": 23,
   "metadata": {},
   "outputs": [],
   "source": [
    "model = Sequential()\n",
    "model.add(Dense(units=32, activation='sigmoid', input_shape=(image_size,)))\n",
    "model.add(Dense(units=num_classes, activation='softmax'))\n",
    "model.compile(optimizer='sgd', loss='categorical_crossentropy',metrics=['accuracy'])\n",
    "history = model.fit(X_train_NN, y_train_NN, batch_size=128, epochs=100, verbose=False,validation_data=(X_val_NN,y_val_NN))\n",
    "loss_NN,accuracy_NN = model.evaluate(X_test_NN, y_test_NN, verbose=False)"
   ]
  },
  {
   "cell_type": "markdown",
   "metadata": {},
   "source": [
    "### MNIST Data Performance"
   ]
  },
  {
   "cell_type": "code",
   "execution_count": 25,
   "metadata": {},
   "outputs": [
    {
     "name": "stdout",
     "output_type": "stream",
     "text": [
      "Deep Neural Network | MNIST\n",
      "Accuracy: 0.9282\n",
      "Loss: 0.25935010840296746\n"
     ]
    },
    {
     "data": {
      "image/png": "[encoded data removed]",
      "text/plain": [
       "<Figure size 720x1080 with 4 Axes>"
      ]
     },
     "metadata": {},
     "output_type": "display_data"
    }
   ],
   "source": [
    "%matplotlib inline\n",
    "\n",
    "df = pandas.DataFrame(history.history)\n",
    "df.plot(subplots=True, grid=True, figsize=(10,15))\n",
    "print('Deep Neural Network | MNIST')\n",
    "print('Accuracy:',accuracy_NN)\n",
    "print('Loss:',loss_NN)"
   ]
  },
  {
   "cell_type": "code",
   "execution_count": 28,
   "metadata": {},
   "outputs": [
    {
     "name": "stdout",
     "output_type": "stream",
     "text": [
      "[[ 958    0    2    1    0    4   10    1    4    0]\n",
      " [   0 1110    3    2    0    1    4    2   13    0]\n",
      " [  13    6  932    8   10    1   13   12   33    4]\n",
      " [   3    1   17  931    0   23    2   11   18    4]\n",
      " [   1    2    5    1  922    0   12    2    6   31]\n",
      " [   8    3    4   39    5  785   15    4   23    6]\n",
      " [  10    3    4    0   13   14  910    1    3    0]\n",
      " [   4    9   27    6    8    0    0  949    2   23]\n",
      " [   6    7    6   20    8   18   10   13  881    5]\n",
      " [  14    7    1   12   36    7    1   21    4  906]]\n"
     ]
    }
   ],
   "source": [
    "y_pred = model.predict(X_test_NN)\n",
    "print(metrics.confusion_matrix(y_test_NN.argmax(axis=1), y_pred.argmax(axis=1)))"
   ]
  },
  {
   "cell_type": "markdown",
   "metadata": {},
   "source": [
    "### USPS Data Performance"
   ]
  },
  {
   "cell_type": "code",
   "execution_count": 29,
   "metadata": {},
   "outputs": [
    {
     "name": "stdout",
     "output_type": "stream",
     "text": [
      "19999/19999 [==============================] - 0s 12us/step\n",
      "Deep Neural Network | USPS\n",
      "Accuracy USPS: 0.384869243453232\n",
      "Loss USPS: 2.546163725920919\n",
      "[[ 530    2  256   78  242  192   63   74  132  431]\n",
      " [ 130  365  203  237  144  116   23  597  148   37]\n",
      " [ 181   18 1285  105   57  156   58   69   52   18]\n",
      " [  66    4  145 1358   11  267   10   67   45   27]\n",
      " [  24   50   43   36 1088  157   23  177  231  171]\n",
      " [ 110   10  202  179   39 1232   84   65   60   19]\n",
      " [ 304    7  386   58   87  297  774   15   23   49]\n",
      " [  94  174  285  518   40  195   14  450  164   66]\n",
      " [ 177   24  165  231  105  651  106   59  407   75]\n",
      " [  27  130  122  500  141   96    6  471  299  208]]\n"
     ]
    }
   ],
   "source": [
    "lossUSPS_NN,accuracyUSPS_NN = model.evaluate(X_USPS_NN, y_USPS_NN)\n",
    "print('Deep Neural Network | USPS')\n",
    "print('Accuracy USPS:',accuracyUSPS_NN)\n",
    "print('Loss USPS:',lossUSPS_NN)\n",
    "y_pred_USPS = model.predict(X_USPS_NN)\n",
    "print(metrics.confusion_matrix(y_USPS_NN.argmax(axis=1), y_pred_USPS.argmax(axis=1)))"
   ]
  },
  {
   "cell_type": "markdown",
   "metadata": {},
   "source": [
    "# Convolutional Neural Network"
   ]
  },
  {
   "cell_type": "code",
   "execution_count": 10,
   "metadata": {},
   "outputs": [
    {
     "name": "stdout",
     "output_type": "stream",
     "text": [
      "(50000, 1, 28, 28)\n"
     ]
    }
   ],
   "source": [
    "CNNmodel = Sequential()\n",
    "batch_size = 128\n",
    "epochs=12\n",
    "dim = 28\n",
    "#Data preprocessing\n",
    "X_train_CNN = X_train.reshape(X_train.shape[0],1,dim,dim)\n",
    "X_test_CNN = X_test.reshape(X_test.shape[0],1,dim,dim)\n",
    "X_val_CNN = X_val.reshape(X_test.shape[0],1,dim,dim)\n",
    "\n",
    "print(X_train_CNN.shape)"
   ]
  },
  {
   "cell_type": "code",
   "execution_count": 12,
   "metadata": {},
   "outputs": [
    {
     "name": "stdout",
     "output_type": "stream",
     "text": [
      "Train on 50000 samples, validate on 10000 samples\n",
      "Epoch 1/12\n",
      "50000/50000 [==============================] - 97s 2ms/step - loss: 0.3388 - acc: 0.8949 - val_loss: 0.0848 - val_acc: 0.9764\n",
      "Epoch 2/12\n",
      "50000/50000 [==============================] - 98s 2ms/step - loss: 0.1036 - acc: 0.9693 - val_loss: 0.0568 - val_acc: 0.9832\n",
      "Epoch 3/12\n",
      "50000/50000 [==============================] - 96s 2ms/step - loss: 0.0766 - acc: 0.9777 - val_loss: 0.0484 - val_acc: 0.9858\n",
      "Epoch 4/12\n",
      "50000/50000 [==============================] - 98s 2ms/step - loss: 0.0598 - acc: 0.9823 - val_loss: 0.0451 - val_acc: 0.9868\n",
      "Epoch 5/12\n",
      "50000/50000 [==============================] - 99s 2ms/step - loss: 0.0501 - acc: 0.9845 - val_loss: 0.0463 - val_acc: 0.9865\n",
      "Epoch 6/12\n",
      "50000/50000 [==============================] - 99s 2ms/step - loss: 0.0434 - acc: 0.9864 - val_loss: 0.0410 - val_acc: 0.9893\n",
      "Epoch 7/12\n",
      "50000/50000 [==============================] - 98s 2ms/step - loss: 0.0385 - acc: 0.9884 - val_loss: 0.0398 - val_acc: 0.9888\n",
      "Epoch 8/12\n",
      "50000/50000 [==============================] - 96s 2ms/step - loss: 0.0335 - acc: 0.9892 - val_loss: 0.0381 - val_acc: 0.9889\n",
      "Epoch 9/12\n",
      "50000/50000 [==============================] - 98s 2ms/step - loss: 0.0296 - acc: 0.9904 - val_loss: 0.0407 - val_acc: 0.9887\n",
      "Epoch 10/12\n",
      "50000/50000 [==============================] - 97s 2ms/step - loss: 0.0278 - acc: 0.9910 - val_loss: 0.0373 - val_acc: 0.9896\n",
      "Epoch 11/12\n",
      "50000/50000 [==============================] - 96s 2ms/step - loss: 0.0253 - acc: 0.9914 - val_loss: 0.0367 - val_acc: 0.9902\n",
      "Epoch 12/12\n",
      "50000/50000 [==============================] - 97s 2ms/step - loss: 0.0218 - acc: 0.9927 - val_loss: 0.0418 - val_acc: 0.9881\n"
     ]
    }
   ],
   "source": [
    "#In →  [Conv2D → relu]*2 → MaxPool2D → Dropout(0.25)  → Flatten → Dense → relu → Dropout (0.5) → Softmax→ Out\n",
    "cnnModel = Sequential()\n",
    "cnnModel.add(Conv2D(32, kernel_size=(3, 3),\n",
    "                 activation='relu',\n",
    "                 input_shape=(1,dim,dim),data_format='channels_first'))\n",
    "cnnModel.add(Conv2D(64, (3, 3), activation='relu'))\n",
    "cnnModel.add(MaxPooling2D(pool_size=(2, 2)))\n",
    "cnnModel.add(Dropout(0.25))\n",
    "cnnModel.add(Flatten())\n",
    "cnnModel.add(Dense(128, activation='relu'))\n",
    "cnnModel.add(Dropout(0.5))\n",
    "cnnModel.add(Dense(num_classes, activation='softmax'))\n",
    "\n",
    "cnnModel.compile(loss=keras.losses.categorical_crossentropy,\n",
    "              optimizer=keras.optimizers.Adadelta(),\n",
    "              metrics=['accuracy'])\n",
    "\n",
    "historyCNN = cnnModel.fit(X_train_CNN, y_train_NN,\n",
    "          batch_size=batch_size,\n",
    "          epochs=epochs,\n",
    "          verbose=1,\n",
    "          validation_data=(X_val_CNN, y_val_NN))"
   ]
  },
  {
   "cell_type": "markdown",
   "metadata": {},
   "source": [
    "### MNIST Data Performance"
   ]
  },
  {
   "cell_type": "code",
   "execution_count": 16,
   "metadata": {},
   "outputs": [
    {
     "name": "stdout",
     "output_type": "stream",
     "text": [
      "Convolutional Neural Network | MNIST\n",
      "Accuracy: 0.9917\n",
      "Loss: 0.027809406253465205\n"
     ]
    },
    {
     "data": {
      "image/png": "[encoded data removed]",
      "text/plain": [
       "<Figure size 720x1080 with 4 Axes>"
      ]
     },
     "metadata": {},
     "output_type": "display_data"
    }
   ],
   "source": [
    "loss_CNN,accuracy_CNN = cnnModel.evaluate(X_test_CNN, y_test_NN, verbose=0)\n",
    "\n",
    "%matplotlib inline\n",
    "\n",
    "df = pandas.DataFrame(historyCNN.history)\n",
    "df.plot(subplots=True, grid=True, figsize=(10,15))\n",
    "print('Convolutional Neural Network | MNIST')\n",
    "print('Accuracy:',accuracy_CNN)\n",
    "print('Loss:', loss_CNN)"
   ]
  },
  {
   "cell_type": "code",
   "execution_count": 14,
   "metadata": {},
   "outputs": [
    {
     "name": "stdout",
     "output_type": "stream",
     "text": [
      "[[ 977    1    0    0    0    0    1    1    0    0]\n",
      " [   0 1132    1    0    0    0    1    0    1    0]\n",
      " [   1    1 1023    0    2    0    0    3    1    1]\n",
      " [   0    0    3  999    0    3    0    0    2    3]\n",
      " [   0    0    0    0  979    0    0    0    0    3]\n",
      " [   1    0    0    4    0  879    5    2    0    1]\n",
      " [   3    2    0    0    2    1  949    0    1    0]\n",
      " [   0    2    7    1    0    0    0 1016    0    2]\n",
      " [   4    0    2    0    0    0    0    0  965    3]\n",
      " [   0    0    0    1    7    0    0    3    0  998]]\n"
     ]
    }
   ],
   "source": [
    "y_pred_CNN = cnnModel.predict(X_test_CNN)\n",
    "print(metrics.confusion_matrix(y_test_NN.argmax(axis=1), y_pred_CNN.argmax(axis=1)))"
   ]
  },
  {
   "cell_type": "markdown",
   "metadata": {},
   "source": [
    "### USPS Data Performance"
   ]
  },
  {
   "cell_type": "code",
   "execution_count": 17,
   "metadata": {},
   "outputs": [
    {
     "name": "stdout",
     "output_type": "stream",
     "text": [
      "19999/19999 [==============================] - 17s 872us/step\n",
      "Convolutional Neural Network | USPS\n",
      "Accuracy USPS: 0.6004300214876633\n",
      "Loss USPS: 2.6429732614987804\n",
      "[[ 869    1  202   15  193   11   55    7  260  387]\n",
      " [   9  755  583   65  143   20   39  358   20    8]\n",
      " [  32    5 1802   46   11   51   18   14   14    6]\n",
      " [   2    1   96 1666    7  206    5    6   10    1]\n",
      " [   1   32   61    5 1347   12   58  199  265   20]\n",
      " [  13    0   60   48   13 1774    7   26   38   21]\n",
      " [  47   11  114    4   61   26 1710    1   20    6]\n",
      " [  11   77 1033  133   17   10   55  575   87    2]\n",
      " [  32    7  147  175   44  421  101   33 1006   34]\n",
      " [   1   26  386  157  140   13    3  476  294  504]]\n"
     ]
    }
   ],
   "source": [
    "X_USPS_CNN = USPSMat.reshape(USPSMat.shape[0],1,dim,dim)\n",
    "lossUSPS_CNN,accuracyUSPS_CNN = cnnModel.evaluate(X_USPS_CNN, y_USPS_NN)\n",
    "print('Convolutional Neural Network | USPS')\n",
    "print('Accuracy USPS:',accuracyUSPS_CNN)\n",
    "print('Loss USPS:',lossUSPS_CNN)\n",
    "y_pred_USPS_CNN = cnnModel.predict(X_USPS_CNN)\n",
    "print(metrics.confusion_matrix(y_USPS_NN.argmax(axis=1), y_pred_USPS_CNN.argmax(axis=1)))"
   ]
  },
  {
   "cell_type": "markdown",
   "metadata": {},
   "source": [
    "# Support Vector Machine"
   ]
  },
  {
   "cell_type": "markdown",
   "metadata": {},
   "source": [
    "## Ideal HyperParameters \n",
    "### RBF Kernel | Gamma =0.01 | Penalty parameter C = 200 | Kernel cache size = 8000"
   ]
  },
  {
   "cell_type": "code",
   "execution_count": 30,
   "metadata": {},
   "outputs": [
    {
     "data": {
      "text/plain": [
       "SVC(C=200, cache_size=8000, class_weight=None, coef0=0.0,\n",
       "  decision_function_shape='ovr', degree=3, gamma=0.01, kernel='rbf',\n",
       "  max_iter=-1, probability=False, random_state=None, shrinking=True,\n",
       "  tol=0.001, verbose=False)"
      ]
     },
     "execution_count": 30,
     "metadata": {},
     "output_type": "execute_result"
    }
   ],
   "source": [
    "# SVM\n",
    "SVM = SVC(C=200,kernel='rbf',gamma=0.01,cache_size=8000,probability=False)\n",
    "SVM.fit(X_train, y_train)"
   ]
  },
  {
   "cell_type": "code",
   "execution_count": 31,
   "metadata": {},
   "outputs": [],
   "source": [
    "SVM_predicted = SVM.predict(X_test)"
   ]
  },
  {
   "cell_type": "markdown",
   "metadata": {},
   "source": [
    "### MNIST Data Performance"
   ]
  },
  {
   "cell_type": "code",
   "execution_count": 32,
   "metadata": {},
   "outputs": [
    {
     "name": "stdout",
     "output_type": "stream",
     "text": [
      "SVM | MNIST\n",
      "Confusion matrix:\n",
      "[[ 973    0    2    1    0    1    1    0    2    0]\n",
      " [   0 1128    3    0    0    1    1    1    1    0]\n",
      " [   3    1 1016    0    1    0    1    7    3    0]\n",
      " [   0    0    1  993    0    3    0    4    6    3]\n",
      " [   1    0    3    0  967    0    2    0    0    9]\n",
      " [   3    0    0    9    1  870    4    0    3    2]\n",
      " [   5    2    1    0    2    4  943    0    1    0]\n",
      " [   0    7    8    2    0    0    0 1004    0    7]\n",
      " [   3    0    2    4    4    2    1    2  952    4]\n",
      " [   3    4    1    7   10    2    0    4    1  977]]\n",
      "Accuracy: 0.9823\n"
     ]
    }
   ],
   "source": [
    "print('SVM | MNIST')\n",
    "print(\"Confusion matrix:\\n%s\" % metrics.confusion_matrix(y_test, SVM_predicted))\n",
    "print('Accuracy:',metrics.accuracy_score(y_test,SVM_predicted))"
   ]
  },
  {
   "cell_type": "markdown",
   "metadata": {},
   "source": [
    "### USPS Data Performance"
   ]
  },
  {
   "cell_type": "code",
   "execution_count": 33,
   "metadata": {},
   "outputs": [
    {
     "name": "stdout",
     "output_type": "stream",
     "text": [
      "SVM | USPS\n",
      "Confusion matrix:\n",
      "[[ 652    1  485   40  128  291   39   93    0  271]\n",
      " [ 105  517  345  116   99  128   17  647   15   11]\n",
      " [  55   11 1681   56    9  128   18   36    4    1]\n",
      " [  22    3  234 1236    0  473    0   29    0    3]\n",
      " [  17   72  214   22  909  282    6  422   14   42]\n",
      " [  59    6  293   45    8 1544   14   25    5    1]\n",
      " [ 169    6  738   27   35  202  799    8    0   16]\n",
      " [  45  183  452  395   20  288    2  610    2    3]\n",
      " [  81    5  321  313   33 1031   32   40  137    7]\n",
      " [   9   82  328  383  113  144    2  690   89  160]]\n",
      "Accuracy: 0.4122706135306765\n"
     ]
    }
   ],
   "source": [
    "SVM_predicted_USPS = SVM.predict(USPSMat)\n",
    "print('SVM | USPS')\n",
    "print(\"Confusion matrix:\\n%s\" % metrics.confusion_matrix(USPSTar, SVM_predicted_USPS))\n",
    "print('Accuracy:',metrics.accuracy_score(USPSTar,SVM_predicted_USPS))"
   ]
  },
  {
   "cell_type": "markdown",
   "metadata": {},
   "source": [
    "## Linear Kernel"
   ]
  },
  {
   "cell_type": "code",
   "execution_count": 48,
   "metadata": {},
   "outputs": [
    {
     "data": {
      "text/plain": [
       "SVC(C=1.0, cache_size=200, class_weight=None, coef0=0.0,\n",
       "  decision_function_shape='ovr', degree=3, gamma='auto_deprecated',\n",
       "  kernel='linear', max_iter=-1, probability=False, random_state=None,\n",
       "  shrinking=True, tol=0.001, verbose=False)"
      ]
     },
     "execution_count": 48,
     "metadata": {},
     "output_type": "execute_result"
    }
   ],
   "source": [
    "# SVM Linear Kernel\n",
    "linearSVM = SVC(kernel='linear')\n",
    "linearSVM.fit(X_train, y_train)"
   ]
  },
  {
   "cell_type": "code",
   "execution_count": 49,
   "metadata": {},
   "outputs": [],
   "source": [
    "linearSVM_predicted = linearSVM.predict(X_test)"
   ]
  },
  {
   "cell_type": "markdown",
   "metadata": {},
   "source": [
    "### MNIST Data Performance"
   ]
  },
  {
   "cell_type": "code",
   "execution_count": 53,
   "metadata": {},
   "outputs": [
    {
     "name": "stdout",
     "output_type": "stream",
     "text": [
      "SVM Linear Kernel | MNIST\n",
      "Confusion matrix:\n",
      "[[ 959    0    5    2    2    4    7    0    1    0]\n",
      " [   0 1121    3    3    0    1    2    1    4    0]\n",
      " [   6    8  968    9    3    2   11   10   13    2]\n",
      " [   5    2   17  944    4   13    1    8   13    3]\n",
      " [   2    1   10    1  943    0    4    2    2   17]\n",
      " [  13    4    2   39    5  792    9    1   22    5]\n",
      " [  10    3   11    1    5   14  911    2    1    0]\n",
      " [   1    8   20   10    6    1    0  961    3   18]\n",
      " [   8    4    9   25   11   27    6    5  871    8]\n",
      " [   7    6    2   13   32    4    0   18    7  920]]\n",
      "Accuracy: 0.939\n"
     ]
    }
   ],
   "source": [
    "print('SVM Linear Kernel | MNIST')\n",
    "print(\"Confusion matrix:\\n%s\" % metrics.confusion_matrix(y_test, linearSVM_predicted))\n",
    "print('Accuracy:',metrics.accuracy_score(y_test,linearSVM_predicted))"
   ]
  },
  {
   "cell_type": "markdown",
   "metadata": {},
   "source": [
    "### USPS Data Performance"
   ]
  },
  {
   "cell_type": "code",
   "execution_count": 54,
   "metadata": {},
   "outputs": [
    {
     "name": "stdout",
     "output_type": "stream",
     "text": [
      "SVM Linear Kernel | USPS\n",
      "Confusion matrix:\n",
      "[[ 348    0  476  152  222  345   74  172   10  201]\n",
      " [  60  303  534  275  230  172   17  351   37   21]\n",
      " [ 139   63 1293  115   33  221   55   45   21   14]\n",
      " [  56   58  341  898    8  520    9   45   48   17]\n",
      " [  24   24  221   82  800  215   10  464   82   78]\n",
      " [  47   25  652  240   41  876   30   35   41   13]\n",
      " [ 146   19  903   55   86  264  462   38    2   25]\n",
      " [  19   74  201  706   54  294   12  522   84   34]\n",
      " [ 100   16  298  449  126  692   82   58  160   19]\n",
      " [  18   38  204  588  142  104    8  580  155  163]]\n",
      "Accuracy: 0.2912645632281614\n"
     ]
    }
   ],
   "source": [
    "linearSVM_predicted_USPS = linearSVM.predict(USPSMat)\n",
    "print('SVM Linear Kernel | USPS')\n",
    "print(\"Confusion matrix:\\n%s\" % metrics.confusion_matrix(USPSTar, linearSVM_predicted_USPS))\n",
    "print('Accuracy:',metrics.accuracy_score(USPSTar,linearSVM_predicted_USPS))"
   ]
  },
  {
   "cell_type": "markdown",
   "metadata": {},
   "source": [
    "## RBF Kernel | Gamma = 1"
   ]
  },
  {
   "cell_type": "code",
   "execution_count": null,
   "metadata": {},
   "outputs": [],
   "source": [
    "SVM2 = SVC(kernel='rbf',gamma=1)\n",
    "SVM2.fit(X_train, y_train)"
   ]
  },
  {
   "cell_type": "code",
   "execution_count": null,
   "metadata": {},
   "outputs": [],
   "source": [
    "SVM2_predicted = SVM2.predict(X_test)"
   ]
  },
  {
   "cell_type": "markdown",
   "metadata": {},
   "source": [
    "### MNIST Data Performance"
   ]
  },
  {
   "cell_type": "code",
   "execution_count": null,
   "metadata": {},
   "outputs": [],
   "source": [
    "print('SVM | RBF Kernel | Gamma = 1 | MNIST')\n",
    "print(\"Confusion matrix:\\n%s\" % metrics.confusion_matrix(y_test, SVM2_predicted))\n",
    "print('Accuracy:',metrics.accuracy_score(y_test,SVM2_predicted))"
   ]
  },
  {
   "cell_type": "markdown",
   "metadata": {},
   "source": [
    "### USPS Data Performance"
   ]
  },
  {
   "cell_type": "code",
   "execution_count": null,
   "metadata": {},
   "outputs": [],
   "source": [
    "SVM2_predicted_USPS = SVM2.predict(USPSMat)\n",
    "print('SVM | RBF Kernel | Gamma = 1 | USPS')\n",
    "print(\"Confusion matrix:\\n%s\" % metrics.confusion_matrix(USPSTar, SVM2_predicted_USPS))\n",
    "print('Accuracy:',metrics.accuracy_score(USPSTar,SVM2_predicted_USPS))"
   ]
  },
  {
   "cell_type": "markdown",
   "metadata": {},
   "source": [
    "## RBF Kernel | Gamma = Default"
   ]
  },
  {
   "cell_type": "code",
   "execution_count": 18,
   "metadata": {},
   "outputs": [
    {
     "name": "stderr",
     "output_type": "stream",
     "text": [
      "/anaconda3/lib/python3.6/site-packages/sklearn/svm/base.py:196: FutureWarning: The default value of gamma will change from 'auto' to 'scale' in version 0.22 to account better for unscaled features. Set gamma explicitly to 'auto' or 'scale' to avoid this warning.\n",
      "  \"avoid this warning.\", FutureWarning)\n"
     ]
    },
    {
     "data": {
      "text/plain": [
       "SVC(C=1.0, cache_size=200, class_weight=None, coef0=0.0,\n",
       "  decision_function_shape='ovr', degree=3, gamma='auto_deprecated',\n",
       "  kernel='rbf', max_iter=-1, probability=False, random_state=None,\n",
       "  shrinking=True, tol=0.001, verbose=False)"
      ]
     },
     "execution_count": 18,
     "metadata": {},
     "output_type": "execute_result"
    }
   ],
   "source": [
    "SVM3 = SVC(kernel='rbf')\n",
    "SVM3.fit(X_train, y_train)"
   ]
  },
  {
   "cell_type": "code",
   "execution_count": 19,
   "metadata": {},
   "outputs": [],
   "source": [
    "SVM3_predicted = SVM3.predict(X_test)"
   ]
  },
  {
   "cell_type": "markdown",
   "metadata": {},
   "source": [
    "### MNIST Data Performance"
   ]
  },
  {
   "cell_type": "code",
   "execution_count": 20,
   "metadata": {},
   "outputs": [
    {
     "name": "stdout",
     "output_type": "stream",
     "text": [
      "SVM | RBF Kernel | Gamma = Default | MNIST\n",
      "Confusion matrix:\n",
      "[[ 967    0    1    0    0    5    4    1    2    0]\n",
      " [   0 1120    2    3    0    1    3    1    5    0]\n",
      " [   9    1  962    7   10    1   13   11   16    2]\n",
      " [   1    1   14  950    1   17    1   10   11    4]\n",
      " [   1    1    7    0  937    0    7    2    2   25]\n",
      " [   7    4    5   33    7  808   11    2   10    5]\n",
      " [  10    3    4    1    5   10  924    0    1    0]\n",
      " [   2   13   22    5    7    1    0  954    4   20]\n",
      " [   4    6    6   14    8   24   10    8  891    3]\n",
      " [  10    6    0   12   33    5    1   14    6  922]]\n",
      "Accuracy: 0.9435\n"
     ]
    }
   ],
   "source": [
    "print('SVM | RBF Kernel | Gamma = Default | MNIST')\n",
    "print(\"Confusion matrix:\\n%s\" % metrics.confusion_matrix(y_test, SVM3_predicted))\n",
    "print('Accuracy:',metrics.accuracy_score(y_test,SVM3_predicted))"
   ]
  },
  {
   "cell_type": "markdown",
   "metadata": {},
   "source": [
    "### USPS Data Performance"
   ]
  },
  {
   "cell_type": "code",
   "execution_count": 21,
   "metadata": {},
   "outputs": [
    {
     "name": "stdout",
     "output_type": "stream",
     "text": [
      "SVM | RBF Kernel | Gamma = Default | USPS\n",
      "Confusion matrix:\n",
      "[[ 573    2  428   19  285  248   73   44    6  322]\n",
      " [ 110  429  285  137  273  180   46  501   22   17]\n",
      " [ 128   18 1402   59   39  198   61   57   23   14]\n",
      " [  76    3  186 1123   11  483    5   70   27   16]\n",
      " [  18   67   91   14 1167  267   22  194   69   91]\n",
      " [ 108   17  257  102   25 1367   60   43   15    6]\n",
      " [ 197    7  489   24   98  394  748   13    7   23]\n",
      " [  50  225  457  265   57  416   15  452   41   22]\n",
      " [  73   25  209  193   87 1006   95   41  244   27]\n",
      " [  26  166  228  278  213  165    8  499  214  203]]\n",
      "Accuracy: 0.38541927096354817\n"
     ]
    }
   ],
   "source": [
    "SVM3_predicted_USPS = SVM3.predict(USPSMat)\n",
    "print('SVM | RBF Kernel | Gamma = Default | USPS')\n",
    "print(\"Confusion matrix:\\n%s\" % metrics.confusion_matrix(USPSTar, SVM3_predicted_USPS))\n",
    "print('Accuracy:',metrics.accuracy_score(USPSTar,SVM3_predicted_USPS))"
   ]
  },
  {
   "cell_type": "markdown",
   "metadata": {},
   "source": [
    "# Random Forest Classifier"
   ]
  },
  {
   "cell_type": "code",
   "execution_count": 22,
   "metadata": {},
   "outputs": [
    {
     "data": {
      "text/plain": [
       "RandomForestClassifier(bootstrap=True, class_weight=None, criterion='gini',\n",
       "            max_depth=None, max_features='auto', max_leaf_nodes=None,\n",
       "            min_impurity_decrease=0.0, min_impurity_split=None,\n",
       "            min_samples_leaf=1, min_samples_split=2,\n",
       "            min_weight_fraction_leaf=0.0, n_estimators=10, n_jobs=None,\n",
       "            oob_score=False, random_state=None, verbose=0,\n",
       "            warm_start=False)"
      ]
     },
     "execution_count": 22,
     "metadata": {},
     "output_type": "execute_result"
    }
   ],
   "source": [
    "#RandomForestClassifier\n",
    "RFC = RandomForestClassifier(n_estimators=10)\n",
    "RFC.fit(X_train, y_train)"
   ]
  },
  {
   "cell_type": "code",
   "execution_count": 23,
   "metadata": {},
   "outputs": [],
   "source": [
    "RFC_predicted = RFC.predict(X_test)"
   ]
  },
  {
   "cell_type": "code",
   "execution_count": 24,
   "metadata": {},
   "outputs": [
    {
     "name": "stdout",
     "output_type": "stream",
     "text": [
      "Random Forest | MNIST\n",
      "Confusion matrix:\n",
      "[[ 968    0    1    2    0    3    5    1    0    0]\n",
      " [   0 1118    3    3    2    0    4    1    4    0]\n",
      " [  10    1  978    6    6    1    7   12   10    1]\n",
      " [   1    2   17  944    0   20    1    8   11    6]\n",
      " [   3    2    1    1  932    1   11    4    3   24]\n",
      " [   8    2    2   32    6  819    6    1    9    7]\n",
      " [   7    3    1    1    7   12  924    0    3    0]\n",
      " [   2    8   22    7    6    0    0  962    3   18]\n",
      " [   7    3   16   21    9   14    8    7  878   11]\n",
      " [   6    7    6   14   31    9    2    6    6  922]]\n",
      "Accuracy: 0.9445\n"
     ]
    }
   ],
   "source": [
    "print('Random Forest | MNIST')\n",
    "print(\"Confusion matrix:\\n%s\" % metrics.confusion_matrix(y_test, RFC_predicted))\n",
    "print('Accuracy:',metrics.accuracy_score(y_test,RFC_predicted))"
   ]
  },
  {
   "cell_type": "code",
   "execution_count": 25,
   "metadata": {},
   "outputs": [
    {
     "name": "stdout",
     "output_type": "stream",
     "text": [
      "Random Forest | USPS\n",
      "Confusion matrix:\n",
      "[[640  44 272 109 369 210  77  95  14 170]\n",
      " [ 62 637 169  83 116  96  32 767  22  16]\n",
      " [209 131 957 173  67 194  40 185  24  19]\n",
      " [ 98  74 224 927 104 367  18 140  15  33]\n",
      " [ 47 273 110  91 874 160  33 330  33  49]\n",
      " [253  67 219 258  79 911  46 110  26  31]\n",
      " [434 109 311 112 164 272 468  97  13  20]\n",
      " [ 67 431 415 263  93 172  37 499   9  14]\n",
      " [150 130 252 249 165 684  96  97 130  47]\n",
      " [ 75 301 300 297 249 133  24 439  82 100]]\n",
      "Accuracy: 0.3071653582679134\n"
     ]
    }
   ],
   "source": [
    "RFC_predicted_USPS = RFC.predict(USPSMat)\n",
    "print('Random Forest | USPS')\n",
    "print(\"Confusion matrix:\\n%s\" % metrics.confusion_matrix(USPSTar, RFC_predicted_USPS))\n",
    "print('Accuracy:',metrics.accuracy_score(USPSTar,RFC_predicted_USPS))"
   ]
  },
  {
   "cell_type": "markdown",
   "metadata": {},
   "source": [
    "# Ensemble Classifier"
   ]
  },
  {
   "cell_type": "code",
   "execution_count": 91,
   "metadata": {},
   "outputs": [
    {
     "name": "stdout",
     "output_type": "stream",
     "text": [
      "Confusion matrix:\n",
      "[[ 972    0    0    1    0    2    3    1    1    0]\n",
      " [   0 1120    2    2    0    1    4    1    5    0]\n",
      " [   9    1  987    4    4    0    8   10    8    1]\n",
      " [   0    0   10  971    0   10    1    7    8    3]\n",
      " [   1    0    4    0  955    0    6    0    2   14]\n",
      " [   8    2    1   23    4  830    9    1    9    5]\n",
      " [   8    3    3    1    4    9  929    0    1    0]\n",
      " [   3    9   22    4    4    0    0  970    2   14]\n",
      " [   6    3    3   14    6   15    8    5  911    3]\n",
      " [  10    6    1   12   18    4    1    9    2  946]]\n",
      "Accuracy: 0.9591\n"
     ]
    }
   ],
   "source": [
    "ensemble = []\n",
    "ensemble.append(y_pred.argmax(axis=1))\n",
    "ensemble.append(y_pred_CNN.argmax(axis=1))\n",
    "ensemble.append(SVM_predicted)\n",
    "ensemble.append(linearSVM_predicted)\n",
    "ensemble.append(SVM3_predicted)\n",
    "ensemble.append(RFC_predicted)\n",
    "ensemble.append(y_test_l.argmax(axis=1))\n",
    "ensemble = np.array(ensemble)\n",
    "#Majority voting\n",
    "ensemble_pred,count = stats.mode(ensemble,axis=0)\n",
    "print(\"Confusion matrix:\\n%s\" % metrics.confusion_matrix(test_data[1], ensemble_pred.T))\n",
    "print('Accuracy:',metrics.accuracy_score(test_data[1],ensemble_pred.T))"
   ]
  },
  {
   "cell_type": "code",
   "execution_count": 95,
   "metadata": {},
   "outputs": [
    {
     "name": "stdout",
     "output_type": "stream",
     "text": [
      "Confusion matrix:\n",
      "[[ 655    2  419   44  262  192   53   41   28  304]\n",
      " [ 134  479  316  177  175  117   18  543   32    9]\n",
      " [ 136   17 1532   66   32  118   38   38   15    7]\n",
      " [  64    3  181 1359    4  315    3   45   17    9]\n",
      " [  21   78   95   26 1172  182   13  224  122   67]\n",
      " [ 107   12  263  116   23 1384   34   41   17    3]\n",
      " [ 269    8  521   36   78  255  797   11    5   20]\n",
      " [  80  215  446  413   43  245   13  474   59   12]\n",
      " [ 120   24  225  252   87  854   75   39  301   23]\n",
      " [  30  157  235  419  151  102    5  502  222  177]]\n",
      "Accuracy: 0.4165208260413021\n"
     ]
    }
   ],
   "source": [
    "ensembleUSPS = []\n",
    "ensembleUSPS.append(y_pred_USPS.argmax(axis=1))\n",
    "ensembleUSPS.append(y_pred_USPS_CNN.argmax(axis=1))\n",
    "ensembleUSPS.append(SVM_predicted_USPS)\n",
    "ensembleUSPS.append(linearSVM_predicted_USPS)\n",
    "ensembleUSPS.append(SVM3_predicted_USPS)\n",
    "ensembleUSPS.append(RFC_predicted_USPS)\n",
    "ensembleUSPS.append(y_USPS.argmax(axis=1))\n",
    "ensembleUSPS = np.array(ensembleUSPS)\n",
    "#Majority voting\n",
    "ensemble_pred_USPS,count = stats.mode(ensembleUSPS,axis=0)\n",
    "\n",
    "print(\"Confusion matrix:\\n%s\" % metrics.confusion_matrix(USPSTar, ensemble_pred_USPS.T))\n",
    "print('Accuracy:',metrics.accuracy_score(USPSTar,ensemble_pred_USPS.T))"
   ]
  }
 ],
 "metadata": {
  "kernelspec": {
   "display_name": "Python 3",
   "language": "python",
   "name": "python3"
  },
  "language_info": {
   "codemirror_mode": {
    "name": "ipython",
    "version": 3
   },
   "file_extension": ".py",
   "mimetype": "text/x-python",
   "name": "python",
   "nbconvert_exporter": "python",
   "pygments_lexer": "ipython3",
   "version": "3.6.5"
  }
 },
 "nbformat": 4,
 "nbformat_minor": 2
}
